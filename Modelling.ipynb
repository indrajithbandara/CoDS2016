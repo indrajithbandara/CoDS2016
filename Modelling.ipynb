{
 "cells": [
  {
   "cell_type": "code",
   "execution_count": 2,
   "metadata": {
    "collapsed": false
   },
   "outputs": [],
   "source": [
    "# display inline plots\n",
    "%matplotlib inline\n",
    "\n",
    "# import libraries for numerical and scientific computing\n",
    "import numpy as np\n",
    "\n",
    "# import matplotlib for plotting\n",
    "import matplotlib.pyplot as plt\n",
    "\n",
    "# import pandas for data wrangling and munging\n",
    "import pandas as pd\n",
    "\n",
    "# set some options for better view\n",
    "pd.set_option('display.width', 500)\n",
    "pd.set_option('display.max_columns', 100)\n",
    "pd.set_option('display.notebook_repr_html', True)\n",
    "\n",
    "# import plotting library built on top of matplotlib\n",
    "import seaborn as sns\n",
    "\n",
    "# set some settings related to style of plots that will render\n",
    "sns.set_style(\"whitegrid\")\n",
    "sns.set_context(\"poster\")\n",
    "\n",
    "import warnings\n",
    "warnings.filterwarnings('ignore')"
   ]
  },
  {
   "cell_type": "code",
   "execution_count": 4,
   "metadata": {
    "collapsed": false
   },
   "outputs": [],
   "source": [
    "train = pd.read_excel('./data/train.xlsx', parse_dates=True)\n",
    "test = pd.read_excel('./data/test.xlsx', parse_dates=True)"
   ]
  },
  {
   "cell_type": "code",
   "execution_count": 5,
   "metadata": {
    "collapsed": true
   },
   "outputs": [],
   "source": [
    "# set ID as index\n",
    "train = train.set_index('ID')\n",
    "test = test.set_index('ID')"
   ]
  },
  {
   "cell_type": "code",
   "execution_count": 6,
   "metadata": {
    "collapsed": true
   },
   "outputs": [],
   "source": [
    "# lowercase column names\n",
    "train.columns = train.columns.map(lambda x: x.lower())\n",
    "test.columns = test.columns.map(lambda x: x.lower())"
   ]
  },
  {
   "cell_type": "markdown",
   "metadata": {},
   "source": [
    "## Summary statistics for salary"
   ]
  },
  {
   "cell_type": "code",
   "execution_count": 7,
   "metadata": {
    "collapsed": false
   },
   "outputs": [
    {
     "data": {
      "text/plain": [
       "count       3998.000000\n",
       "mean      307699.849925\n",
       "std       212737.499957\n",
       "min        35000.000000\n",
       "25%       180000.000000\n",
       "50%       300000.000000\n",
       "75%       370000.000000\n",
       "max      4000000.000000\n",
       "Name: salary, dtype: float64"
      ]
     },
     "execution_count": 7,
     "metadata": {},
     "output_type": "execute_result"
    }
   ],
   "source": [
    "train.salary.describe()"
   ]
  },
  {
   "cell_type": "code",
   "execution_count": 8,
   "metadata": {
    "collapsed": true
   },
   "outputs": [],
   "source": [
    "# let us create different levels for salary - low, medium and high\n",
    "def salary_map(salary):\n",
    "    if salary < 2e5:\n",
    "        return 'low_salary'\n",
    "    elif salary < 4e5:\n",
    "        return 'medium_salary'\n",
    "    else:\n",
    "        return 'high_salary'\n",
    "\n",
    "train['salary_type'] = train.salary.map(salary_map)"
   ]
  },
  {
   "cell_type": "code",
   "execution_count": 9,
   "metadata": {
    "collapsed": false
   },
   "outputs": [
    {
     "data": {
      "text/plain": [
       "medium_salary    2050\n",
       "low_salary       1066\n",
       "high_salary       882\n",
       "Name: salary_type, dtype: int64"
      ]
     },
     "execution_count": 9,
     "metadata": {},
     "output_type": "execute_result"
    }
   ],
   "source": [
    "# count of various salary types\n",
    "train.salary_type.value_counts()"
   ]
  },
  {
   "cell_type": "code",
   "execution_count": null,
   "metadata": {
    "collapsed": true
   },
   "outputs": [],
   "source": [
    "train.co"
   ]
  },
  {
   "cell_type": "code",
   "execution_count": 26,
   "metadata": {
    "collapsed": false
   },
   "outputs": [],
   "source": [
    "# distribution of college tier by salary types\n",
    "g = train.groupby(['salary_type', 'collegetier']).size()\n",
    "d = g.unstack(1)\n",
    "\n",
    "d['percentage_1'] = d[1] / d.sum(axis=1)\n",
    "d['percentage_2'] = d[2] / d.sum(axis=1)"
   ]
  },
  {
   "cell_type": "code",
   "execution_count": 33,
   "metadata": {
    "collapsed": false
   },
   "outputs": [
    {
     "data": {
      "text/html": [
       "<div>\n",
       "<table border=\"1\" class=\"dataframe\">\n",
       "  <thead>\n",
       "    <tr style=\"text-align: right;\">\n",
       "      <th>collegetier</th>\n",
       "      <th>1</th>\n",
       "      <th>2</th>\n",
       "      <th>percentage_1</th>\n",
       "      <th>percentage_2</th>\n",
       "    </tr>\n",
       "    <tr>\n",
       "      <th>salary_type</th>\n",
       "      <th></th>\n",
       "      <th></th>\n",
       "      <th></th>\n",
       "      <th></th>\n",
       "    </tr>\n",
       "  </thead>\n",
       "  <tbody>\n",
       "    <tr>\n",
       "      <th>high_salary</th>\n",
       "      <td>130</td>\n",
       "      <td>752</td>\n",
       "      <td>0.147392</td>\n",
       "      <td>0.852465</td>\n",
       "    </tr>\n",
       "    <tr>\n",
       "      <th>low_salary</th>\n",
       "      <td>20</td>\n",
       "      <td>1046</td>\n",
       "      <td>0.018762</td>\n",
       "      <td>0.981221</td>\n",
       "    </tr>\n",
       "    <tr>\n",
       "      <th>medium_salary</th>\n",
       "      <td>147</td>\n",
       "      <td>1903</td>\n",
       "      <td>0.071707</td>\n",
       "      <td>0.928260</td>\n",
       "    </tr>\n",
       "  </tbody>\n",
       "</table>\n",
       "</div>"
      ],
      "text/plain": [
       "collegetier      1     2  percentage_1  percentage_2\n",
       "salary_type                                         \n",
       "high_salary    130   752      0.147392      0.852465\n",
       "low_salary      20  1046      0.018762      0.981221\n",
       "medium_salary  147  1903      0.071707      0.928260"
      ]
     },
     "execution_count": 33,
     "metadata": {},
     "output_type": "execute_result"
    }
   ],
   "source": [
    "d"
   ]
  },
  {
   "cell_type": "code",
   "execution_count": 76,
   "metadata": {
    "collapsed": true
   },
   "outputs": [],
   "source": [
    "from sklearn.pipeline import Pipeline\n",
    "from sklearn.preprocessing import StandardScaler\n",
    "from sklearn.linear_model import LinearRegression"
   ]
  },
  {
   "cell_type": "code",
   "execution_count": 77,
   "metadata": {
    "collapsed": true
   },
   "outputs": [],
   "source": [
    "features = ['10percentage', '12percentage', 'collegegpa', 'collegetier', 'graduationyear',\n",
    "            'english', 'logical', 'quant', 'domain']\n",
    "\n",
    "X = train[features]\n",
    "y = train.salary"
   ]
  },
  {
   "cell_type": "code",
   "execution_count": 78,
   "metadata": {
    "collapsed": true
   },
   "outputs": [],
   "source": [
    "scaler = StandardScaler()\n",
    "lm = LinearRegression()\n",
    "\n",
    "clf = Pipeline([('scaler', scaler), ('lm', lm)])"
   ]
  },
  {
   "cell_type": "code",
   "execution_count": 79,
   "metadata": {
    "collapsed": false
   },
   "outputs": [
    {
     "data": {
      "text/plain": [
       "Pipeline(steps=[('scaler', StandardScaler(copy=True, with_mean=True, with_std=True)), ('lm', LinearRegression(copy_X=True, fit_intercept=True, n_jobs=1, normalize=False))])"
      ]
     },
     "execution_count": 79,
     "metadata": {},
     "output_type": "execute_result"
    }
   ],
   "source": [
    "clf.fit(X, y)"
   ]
  },
  {
   "cell_type": "code",
   "execution_count": 88,
   "metadata": {
    "collapsed": true
   },
   "outputs": [],
   "source": [
    "lm_comp = clf.get_params()['lm']"
   ]
  },
  {
   "cell_type": "code",
   "execution_count": 89,
   "metadata": {
    "collapsed": false
   },
   "outputs": [
    {
     "name": "stdout",
     "output_type": "stream",
     "text": [
      "Estimated intercept coefficient: 307699.849925\n"
     ]
    }
   ],
   "source": [
    "print 'Estimated intercept coefficient:', lm_comp.intercept_"
   ]
  },
  {
   "cell_type": "code",
   "execution_count": 90,
   "metadata": {
    "collapsed": false
   },
   "outputs": [
    {
     "name": "stdout",
     "output_type": "stream",
     "text": [
      "Number of coefficients: 9\n"
     ]
    }
   ],
   "source": [
    "print 'Number of coefficients:', len(lm_comp.coef_)"
   ]
  },
  {
   "cell_type": "code",
   "execution_count": 91,
   "metadata": {
    "collapsed": false
   },
   "outputs": [
    {
     "data": {
      "text/html": [
       "<div>\n",
       "<table border=\"1\" class=\"dataframe\">\n",
       "  <thead>\n",
       "    <tr style=\"text-align: right;\">\n",
       "      <th></th>\n",
       "      <th>features</th>\n",
       "      <th>estimatedCoefficients</th>\n",
       "    </tr>\n",
       "  </thead>\n",
       "  <tbody>\n",
       "    <tr>\n",
       "      <th>0</th>\n",
       "      <td>10percentage</td>\n",
       "      <td>8448.987220</td>\n",
       "    </tr>\n",
       "    <tr>\n",
       "      <th>1</th>\n",
       "      <td>12percentage</td>\n",
       "      <td>12255.573922</td>\n",
       "    </tr>\n",
       "    <tr>\n",
       "      <th>2</th>\n",
       "      <td>collegegpa</td>\n",
       "      <td>9649.341457</td>\n",
       "    </tr>\n",
       "    <tr>\n",
       "      <th>3</th>\n",
       "      <td>collegetier</td>\n",
       "      <td>-24698.336562</td>\n",
       "    </tr>\n",
       "    <tr>\n",
       "      <th>4</th>\n",
       "      <td>graduationyear</td>\n",
       "      <td>-976.223265</td>\n",
       "    </tr>\n",
       "    <tr>\n",
       "      <th>5</th>\n",
       "      <td>english</td>\n",
       "      <td>14197.905694</td>\n",
       "    </tr>\n",
       "    <tr>\n",
       "      <th>6</th>\n",
       "      <td>logical</td>\n",
       "      <td>6087.694365</td>\n",
       "    </tr>\n",
       "    <tr>\n",
       "      <th>7</th>\n",
       "      <td>quant</td>\n",
       "      <td>23578.071247</td>\n",
       "    </tr>\n",
       "    <tr>\n",
       "      <th>8</th>\n",
       "      <td>domain</td>\n",
       "      <td>10939.051083</td>\n",
       "    </tr>\n",
       "  </tbody>\n",
       "</table>\n",
       "</div>"
      ],
      "text/plain": [
       "         features  estimatedCoefficients\n",
       "0    10percentage            8448.987220\n",
       "1    12percentage           12255.573922\n",
       "2      collegegpa            9649.341457\n",
       "3     collegetier          -24698.336562\n",
       "4  graduationyear            -976.223265\n",
       "5         english           14197.905694\n",
       "6         logical            6087.694365\n",
       "7           quant           23578.071247\n",
       "8          domain           10939.051083"
      ]
     },
     "execution_count": 91,
     "metadata": {},
     "output_type": "execute_result"
    }
   ],
   "source": [
    "# The coefficients\n",
    "pd.DataFrame(zip(X.columns, lm_comp.coef_), columns = ['features', 'estimatedCoefficients'])"
   ]
  },
  {
   "cell_type": "code",
   "execution_count": 92,
   "metadata": {
    "collapsed": false
   },
   "outputs": [
    {
     "data": {
      "text/plain": [
       "array([ 350502.08339432,  412853.20317275,  287322.03124787,\n",
       "        471654.07643211,  302408.31278987])"
      ]
     },
     "execution_count": 92,
     "metadata": {},
     "output_type": "execute_result"
    }
   ],
   "source": [
    "# lets take a look at first five predicted values\n",
    "clf.predict(X)[0:5]"
   ]
  },
  {
   "cell_type": "code",
   "execution_count": 93,
   "metadata": {
    "collapsed": false
   },
   "outputs": [
    {
     "data": {
      "image/png": "[encoded data removed]",
      "text/plain": [
       "<matplotlib.figure.Figure at 0x208b8128>"
      ]
     },
     "metadata": {},
     "output_type": "display_data"
    }
   ],
   "source": [
    "plt.hist(clf.predict(X))\n",
    "plt.title('Predicted Salary (fitted values): $\\hat{Y}_i$')\n",
    "plt.xlabel('Salary')\n",
    "plt.ylabel('Frequency');"
   ]
  },
  {
   "cell_type": "code",
   "execution_count": 95,
   "metadata": {
    "collapsed": false
   },
   "outputs": [
    {
     "data": {
      "image/png": "[encoded data removed]",
      "text/plain": [
       "<matplotlib.figure.Figure at 0x1fabbac8>"
      ]
     },
     "metadata": {},
     "output_type": "display_data"
    }
   ],
   "source": [
    "plt.scatter(train.salary, clf.predict(X), alpha=0.3)\n",
    "plt.xlabel(\"Prices: $Y_i$\")\n",
    "plt.ylabel(\"Predicted salaries: $\\hat{Y}_i$\")\n",
    "plt.title(\"Prices vs Predicted salaries: $Y_i$ vs $\\hat{Y}_i$\");"
   ]
  },
  {
   "cell_type": "code",
   "execution_count": 96,
   "metadata": {
    "collapsed": false
   },
   "outputs": [
    {
     "name": "stdout",
     "output_type": "stream",
     "text": [
      "1.64323741929e+14\n"
     ]
    }
   ],
   "source": [
    "print np.sum((train.salary - clf.predict(X)) ** 2)"
   ]
  },
  {
   "cell_type": "code",
   "execution_count": 97,
   "metadata": {
    "collapsed": false
   },
   "outputs": [
    {
     "name": "stdout",
     "output_type": "stream",
     "text": [
      "41101486225.4\n"
     ]
    }
   ],
   "source": [
    "mseFull = np.mean((train.salary - clf.predict(X)) ** 2)\n",
    "print mseFull"
   ]
  },
  {
   "cell_type": "code",
   "execution_count": 98,
   "metadata": {
    "collapsed": false
   },
   "outputs": [
    {
     "data": {
      "text/html": [
       "<div>\n",
       "<table border=\"1\" class=\"dataframe\">\n",
       "  <thead>\n",
       "    <tr style=\"text-align: right;\">\n",
       "      <th></th>\n",
       "      <th>10percentage</th>\n",
       "      <th>12percentage</th>\n",
       "      <th>collegegpa</th>\n",
       "      <th>collegetier</th>\n",
       "      <th>graduationyear</th>\n",
       "      <th>english</th>\n",
       "      <th>logical</th>\n",
       "      <th>quant</th>\n",
       "      <th>domain</th>\n",
       "    </tr>\n",
       "  </thead>\n",
       "  <tbody>\n",
       "    <tr>\n",
       "      <th>10percentage</th>\n",
       "      <td>1.000000</td>\n",
       "      <td>0.643378</td>\n",
       "      <td>0.312538</td>\n",
       "      <td>-0.126042</td>\n",
       "      <td>-0.013799</td>\n",
       "      <td>0.350780</td>\n",
       "      <td>0.316014</td>\n",
       "      <td>0.317640</td>\n",
       "      <td>0.078563</td>\n",
       "    </tr>\n",
       "    <tr>\n",
       "      <th>12percentage</th>\n",
       "      <td>0.643378</td>\n",
       "      <td>1.000000</td>\n",
       "      <td>0.346137</td>\n",
       "      <td>-0.100771</td>\n",
       "      <td>-0.012933</td>\n",
       "      <td>0.212888</td>\n",
       "      <td>0.243571</td>\n",
       "      <td>0.312413</td>\n",
       "      <td>0.074099</td>\n",
       "    </tr>\n",
       "    <tr>\n",
       "      <th>collegegpa</th>\n",
       "      <td>0.312538</td>\n",
       "      <td>0.346137</td>\n",
       "      <td>1.000000</td>\n",
       "      <td>-0.086781</td>\n",
       "      <td>0.008706</td>\n",
       "      <td>0.106478</td>\n",
       "      <td>0.196610</td>\n",
       "      <td>0.217380</td>\n",
       "      <td>0.107252</td>\n",
       "    </tr>\n",
       "    <tr>\n",
       "      <th>collegetier</th>\n",
       "      <td>-0.126042</td>\n",
       "      <td>-0.100771</td>\n",
       "      <td>-0.086781</td>\n",
       "      <td>1.000000</td>\n",
       "      <td>-0.005557</td>\n",
       "      <td>-0.183843</td>\n",
       "      <td>-0.182811</td>\n",
       "      <td>-0.251103</td>\n",
       "      <td>-0.061436</td>\n",
       "    </tr>\n",
       "    <tr>\n",
       "      <th>graduationyear</th>\n",
       "      <td>-0.013799</td>\n",
       "      <td>-0.012933</td>\n",
       "      <td>0.008706</td>\n",
       "      <td>-0.005557</td>\n",
       "      <td>1.000000</td>\n",
       "      <td>-0.024089</td>\n",
       "      <td>-0.024018</td>\n",
       "      <td>-0.021781</td>\n",
       "      <td>-0.009741</td>\n",
       "    </tr>\n",
       "    <tr>\n",
       "      <th>english</th>\n",
       "      <td>0.350780</td>\n",
       "      <td>0.212888</td>\n",
       "      <td>0.106478</td>\n",
       "      <td>-0.183843</td>\n",
       "      <td>-0.024089</td>\n",
       "      <td>1.000000</td>\n",
       "      <td>0.444357</td>\n",
       "      <td>0.375784</td>\n",
       "      <td>0.089721</td>\n",
       "    </tr>\n",
       "    <tr>\n",
       "      <th>logical</th>\n",
       "      <td>0.316014</td>\n",
       "      <td>0.243571</td>\n",
       "      <td>0.196610</td>\n",
       "      <td>-0.182811</td>\n",
       "      <td>-0.024018</td>\n",
       "      <td>0.444357</td>\n",
       "      <td>1.000000</td>\n",
       "      <td>0.500152</td>\n",
       "      <td>0.169453</td>\n",
       "    </tr>\n",
       "    <tr>\n",
       "      <th>quant</th>\n",
       "      <td>0.317640</td>\n",
       "      <td>0.312413</td>\n",
       "      <td>0.217380</td>\n",
       "      <td>-0.251103</td>\n",
       "      <td>-0.021781</td>\n",
       "      <td>0.375784</td>\n",
       "      <td>0.500152</td>\n",
       "      <td>1.000000</td>\n",
       "      <td>0.207108</td>\n",
       "    </tr>\n",
       "    <tr>\n",
       "      <th>domain</th>\n",
       "      <td>0.078563</td>\n",
       "      <td>0.074099</td>\n",
       "      <td>0.107252</td>\n",
       "      <td>-0.061436</td>\n",
       "      <td>-0.009741</td>\n",
       "      <td>0.089721</td>\n",
       "      <td>0.169453</td>\n",
       "      <td>0.207108</td>\n",
       "      <td>1.000000</td>\n",
       "    </tr>\n",
       "  </tbody>\n",
       "</table>\n",
       "</div>"
      ],
      "text/plain": [
       "                10percentage  12percentage  collegegpa  collegetier  graduationyear   english   logical     quant    domain\n",
       "10percentage        1.000000      0.643378    0.312538    -0.126042       -0.013799  0.350780  0.316014  0.317640  0.078563\n",
       "12percentage        0.643378      1.000000    0.346137    -0.100771       -0.012933  0.212888  0.243571  0.312413  0.074099\n",
       "collegegpa          0.312538      0.346137    1.000000    -0.086781        0.008706  0.106478  0.196610  0.217380  0.107252\n",
       "collegetier        -0.126042     -0.100771   -0.086781     1.000000       -0.005557 -0.183843 -0.182811 -0.251103 -0.061436\n",
       "graduationyear     -0.013799     -0.012933    0.008706    -0.005557        1.000000 -0.024089 -0.024018 -0.021781 -0.009741\n",
       "english             0.350780      0.212888    0.106478    -0.183843       -0.024089  1.000000  0.444357  0.375784  0.089721\n",
       "logical             0.316014      0.243571    0.196610    -0.182811       -0.024018  0.444357  1.000000  0.500152  0.169453\n",
       "quant               0.317640      0.312413    0.217380    -0.251103       -0.021781  0.375784  0.500152  1.000000  0.207108\n",
       "domain              0.078563      0.074099    0.107252    -0.061436       -0.009741  0.089721  0.169453  0.207108  1.000000"
      ]
     },
     "execution_count": 98,
     "metadata": {},
     "output_type": "execute_result"
    }
   ],
   "source": [
    "# see correlations in the feature space\n",
    "X.corr()"
   ]
  },
  {
   "cell_type": "code",
   "execution_count": null,
   "metadata": {
    "collapsed": true
   },
   "outputs": [],
   "source": []
  },
  {
   "cell_type": "code",
   "execution_count": 72,
   "metadata": {
    "collapsed": false
   },
   "outputs": [
    {
     "data": {
      "text/html": [
       "<div>\n",
       "<table border=\"1\" class=\"dataframe\">\n",
       "  <thead>\n",
       "    <tr style=\"text-align: right;\">\n",
       "      <th></th>\n",
       "      <th>doj</th>\n",
       "      <th>dol</th>\n",
       "      <th>designation</th>\n",
       "      <th>jobcity</th>\n",
       "      <th>gender</th>\n",
       "      <th>dob</th>\n",
       "      <th>10percentage</th>\n",
       "      <th>10board</th>\n",
       "      <th>12graduation</th>\n",
       "      <th>12percentage</th>\n",
       "      <th>12board</th>\n",
       "      <th>collegeid</th>\n",
       "      <th>collegetier</th>\n",
       "      <th>degree</th>\n",
       "      <th>specialization</th>\n",
       "      <th>collegegpa</th>\n",
       "      <th>collegecityid</th>\n",
       "      <th>collegecitytier</th>\n",
       "      <th>collegestate</th>\n",
       "      <th>graduationyear</th>\n",
       "      <th>english</th>\n",
       "      <th>logical</th>\n",
       "      <th>quant</th>\n",
       "      <th>domain</th>\n",
       "      <th>computerprogramming</th>\n",
       "      <th>electronicsandsemicon</th>\n",
       "      <th>computerscience</th>\n",
       "      <th>mechanicalengg</th>\n",
       "      <th>electricalengg</th>\n",
       "      <th>telecomengg</th>\n",
       "      <th>civilengg</th>\n",
       "      <th>conscientiousness</th>\n",
       "      <th>agreeableness</th>\n",
       "      <th>extraversion</th>\n",
       "      <th>nueroticism</th>\n",
       "      <th>openess_to_experience</th>\n",
       "      <th>salary_type</th>\n",
       "    </tr>\n",
       "    <tr>\n",
       "      <th>ID</th>\n",
       "      <th></th>\n",
       "      <th></th>\n",
       "      <th></th>\n",
       "      <th></th>\n",
       "      <th></th>\n",
       "      <th></th>\n",
       "      <th></th>\n",
       "      <th></th>\n",
       "      <th></th>\n",
       "      <th></th>\n",
       "      <th></th>\n",
       "      <th></th>\n",
       "      <th></th>\n",
       "      <th></th>\n",
       "      <th></th>\n",
       "      <th></th>\n",
       "      <th></th>\n",
       "      <th></th>\n",
       "      <th></th>\n",
       "      <th></th>\n",
       "      <th></th>\n",
       "      <th></th>\n",
       "      <th></th>\n",
       "      <th></th>\n",
       "      <th></th>\n",
       "      <th></th>\n",
       "      <th></th>\n",
       "      <th></th>\n",
       "      <th></th>\n",
       "      <th></th>\n",
       "      <th></th>\n",
       "      <th></th>\n",
       "      <th></th>\n",
       "      <th></th>\n",
       "      <th></th>\n",
       "      <th></th>\n",
       "      <th></th>\n",
       "    </tr>\n",
       "  </thead>\n",
       "  <tbody>\n",
       "    <tr>\n",
       "      <th>203097</th>\n",
       "      <td>2012-06-01</td>\n",
       "      <td>present</td>\n",
       "      <td>senior quality engineer</td>\n",
       "      <td>Bangalore</td>\n",
       "      <td>f</td>\n",
       "      <td>1990-02-19</td>\n",
       "      <td>84.3</td>\n",
       "      <td>board ofsecondary education,ap</td>\n",
       "      <td>2007</td>\n",
       "      <td>95.8</td>\n",
       "      <td>board of intermediate education,ap</td>\n",
       "      <td>1141</td>\n",
       "      <td>2</td>\n",
       "      <td>B.Tech/B.E.</td>\n",
       "      <td>computer engineering</td>\n",
       "      <td>78.00</td>\n",
       "      <td>1141</td>\n",
       "      <td>0</td>\n",
       "      <td>Andhra Pradesh</td>\n",
       "      <td>2011</td>\n",
       "      <td>515</td>\n",
       "      <td>585</td>\n",
       "      <td>525</td>\n",
       "      <td>0.635979</td>\n",
       "      <td>445</td>\n",
       "      <td>-1</td>\n",
       "      <td>-1</td>\n",
       "      <td>-1</td>\n",
       "      <td>-1</td>\n",
       "      <td>-1</td>\n",
       "      <td>-1</td>\n",
       "      <td>0.9737</td>\n",
       "      <td>0.8128</td>\n",
       "      <td>0.5269</td>\n",
       "      <td>1.35490</td>\n",
       "      <td>-0.4455</td>\n",
       "      <td>high_salary</td>\n",
       "    </tr>\n",
       "    <tr>\n",
       "      <th>579905</th>\n",
       "      <td>2013-09-01</td>\n",
       "      <td>present</td>\n",
       "      <td>assistant manager</td>\n",
       "      <td>Indore</td>\n",
       "      <td>m</td>\n",
       "      <td>1989-10-04</td>\n",
       "      <td>85.4</td>\n",
       "      <td>cbse</td>\n",
       "      <td>2007</td>\n",
       "      <td>85.0</td>\n",
       "      <td>cbse</td>\n",
       "      <td>5807</td>\n",
       "      <td>2</td>\n",
       "      <td>B.Tech/B.E.</td>\n",
       "      <td>electronics and communication engineering</td>\n",
       "      <td>70.06</td>\n",
       "      <td>5807</td>\n",
       "      <td>0</td>\n",
       "      <td>Madhya Pradesh</td>\n",
       "      <td>2012</td>\n",
       "      <td>695</td>\n",
       "      <td>610</td>\n",
       "      <td>780</td>\n",
       "      <td>0.960603</td>\n",
       "      <td>-1</td>\n",
       "      <td>466</td>\n",
       "      <td>-1</td>\n",
       "      <td>-1</td>\n",
       "      <td>-1</td>\n",
       "      <td>-1</td>\n",
       "      <td>-1</td>\n",
       "      <td>-0.7335</td>\n",
       "      <td>0.3789</td>\n",
       "      <td>1.2396</td>\n",
       "      <td>-0.10760</td>\n",
       "      <td>0.8637</td>\n",
       "      <td>high_salary</td>\n",
       "    </tr>\n",
       "    <tr>\n",
       "      <th>810601</th>\n",
       "      <td>2014-06-01</td>\n",
       "      <td>present</td>\n",
       "      <td>systems engineer</td>\n",
       "      <td>Chennai</td>\n",
       "      <td>f</td>\n",
       "      <td>1992-08-03</td>\n",
       "      <td>85.0</td>\n",
       "      <td>cbse</td>\n",
       "      <td>2010</td>\n",
       "      <td>68.2</td>\n",
       "      <td>cbse</td>\n",
       "      <td>64</td>\n",
       "      <td>2</td>\n",
       "      <td>B.Tech/B.E.</td>\n",
       "      <td>information technology</td>\n",
       "      <td>70.00</td>\n",
       "      <td>64</td>\n",
       "      <td>0</td>\n",
       "      <td>Uttar Pradesh</td>\n",
       "      <td>2014</td>\n",
       "      <td>615</td>\n",
       "      <td>545</td>\n",
       "      <td>370</td>\n",
       "      <td>0.450877</td>\n",
       "      <td>395</td>\n",
       "      <td>-1</td>\n",
       "      <td>-1</td>\n",
       "      <td>-1</td>\n",
       "      <td>-1</td>\n",
       "      <td>-1</td>\n",
       "      <td>-1</td>\n",
       "      <td>0.2718</td>\n",
       "      <td>1.7109</td>\n",
       "      <td>0.1637</td>\n",
       "      <td>-0.86820</td>\n",
       "      <td>0.6721</td>\n",
       "      <td>medium_salary</td>\n",
       "    </tr>\n",
       "    <tr>\n",
       "      <th>267447</th>\n",
       "      <td>2011-07-01</td>\n",
       "      <td>present</td>\n",
       "      <td>senior software engineer</td>\n",
       "      <td>Gurgaon</td>\n",
       "      <td>m</td>\n",
       "      <td>1989-12-05</td>\n",
       "      <td>85.6</td>\n",
       "      <td>cbse</td>\n",
       "      <td>2007</td>\n",
       "      <td>83.6</td>\n",
       "      <td>cbse</td>\n",
       "      <td>6920</td>\n",
       "      <td>1</td>\n",
       "      <td>B.Tech/B.E.</td>\n",
       "      <td>computer engineering</td>\n",
       "      <td>74.64</td>\n",
       "      <td>6920</td>\n",
       "      <td>1</td>\n",
       "      <td>Delhi</td>\n",
       "      <td>2011</td>\n",
       "      <td>635</td>\n",
       "      <td>585</td>\n",
       "      <td>625</td>\n",
       "      <td>0.974396</td>\n",
       "      <td>615</td>\n",
       "      <td>-1</td>\n",
       "      <td>-1</td>\n",
       "      <td>-1</td>\n",
       "      <td>-1</td>\n",
       "      <td>-1</td>\n",
       "      <td>-1</td>\n",
       "      <td>0.0464</td>\n",
       "      <td>0.3448</td>\n",
       "      <td>-0.3440</td>\n",
       "      <td>-0.40780</td>\n",
       "      <td>-0.9194</td>\n",
       "      <td>high_salary</td>\n",
       "    </tr>\n",
       "    <tr>\n",
       "      <th>343523</th>\n",
       "      <td>2014-03-01</td>\n",
       "      <td>2015-03-01 00:00:00</td>\n",
       "      <td>get</td>\n",
       "      <td>Manesar</td>\n",
       "      <td>m</td>\n",
       "      <td>1991-02-27</td>\n",
       "      <td>78.0</td>\n",
       "      <td>cbse</td>\n",
       "      <td>2008</td>\n",
       "      <td>76.8</td>\n",
       "      <td>cbse</td>\n",
       "      <td>11368</td>\n",
       "      <td>2</td>\n",
       "      <td>B.Tech/B.E.</td>\n",
       "      <td>electronics and communication engineering</td>\n",
       "      <td>73.90</td>\n",
       "      <td>11368</td>\n",
       "      <td>0</td>\n",
       "      <td>Uttar Pradesh</td>\n",
       "      <td>2012</td>\n",
       "      <td>545</td>\n",
       "      <td>625</td>\n",
       "      <td>465</td>\n",
       "      <td>0.124502</td>\n",
       "      <td>-1</td>\n",
       "      <td>233</td>\n",
       "      <td>-1</td>\n",
       "      <td>-1</td>\n",
       "      <td>-1</td>\n",
       "      <td>-1</td>\n",
       "      <td>-1</td>\n",
       "      <td>-0.8810</td>\n",
       "      <td>-0.2793</td>\n",
       "      <td>-1.0697</td>\n",
       "      <td>0.09163</td>\n",
       "      <td>-0.1295</td>\n",
       "      <td>medium_salary</td>\n",
       "    </tr>\n",
       "  </tbody>\n",
       "</table>\n",
       "</div>"
      ],
      "text/plain": [
       "              doj                  dol               designation    jobcity gender        dob  10percentage                         10board  12graduation  12percentage                             12board  collegeid  collegetier       degree                             specialization  collegegpa  collegecityid  collegecitytier    collegestate  graduationyear  english  logical  quant    domain  computerprogramming  electronicsandsemicon  computerscience  mechanicalengg  electricalengg  \\\n",
       "ID                                                                                                                                                                                                                                                                                                                                                                                                                                                                                                        \n",
       "203097 2012-06-01              present   senior quality engineer  Bangalore      f 1990-02-19          84.3  board ofsecondary education,ap          2007          95.8  board of intermediate education,ap       1141            2  B.Tech/B.E.                       computer engineering       78.00           1141                0  Andhra Pradesh            2011      515      585    525  0.635979                  445                     -1               -1              -1              -1   \n",
       "579905 2013-09-01              present         assistant manager     Indore      m 1989-10-04          85.4                            cbse          2007          85.0                                cbse       5807            2  B.Tech/B.E.  electronics and communication engineering       70.06           5807                0  Madhya Pradesh            2012      695      610    780  0.960603                   -1                    466               -1              -1              -1   \n",
       "810601 2014-06-01              present          systems engineer    Chennai      f 1992-08-03          85.0                            cbse          2010          68.2                                cbse         64            2  B.Tech/B.E.                     information technology       70.00             64                0   Uttar Pradesh            2014      615      545    370  0.450877                  395                     -1               -1              -1              -1   \n",
       "267447 2011-07-01              present  senior software engineer    Gurgaon      m 1989-12-05          85.6                            cbse          2007          83.6                                cbse       6920            1  B.Tech/B.E.                       computer engineering       74.64           6920                1           Delhi            2011      635      585    625  0.974396                  615                     -1               -1              -1              -1   \n",
       "343523 2014-03-01  2015-03-01 00:00:00                       get    Manesar      m 1991-02-27          78.0                            cbse          2008          76.8                                cbse      11368            2  B.Tech/B.E.  electronics and communication engineering       73.90          11368                0   Uttar Pradesh            2012      545      625    465  0.124502                   -1                    233               -1              -1              -1   \n",
       "\n",
       "        telecomengg  civilengg  conscientiousness  agreeableness  extraversion  nueroticism  openess_to_experience    salary_type  \n",
       "ID                                                                                                                                 \n",
       "203097           -1         -1             0.9737         0.8128        0.5269      1.35490                -0.4455    high_salary  \n",
       "579905           -1         -1            -0.7335         0.3789        1.2396     -0.10760                 0.8637    high_salary  \n",
       "810601           -1         -1             0.2718         1.7109        0.1637     -0.86820                 0.6721  medium_salary  \n",
       "267447           -1         -1             0.0464         0.3448       -0.3440     -0.40780                -0.9194    high_salary  \n",
       "343523           -1         -1            -0.8810        -0.2793       -1.0697      0.09163                -0.1295  medium_salary  "
      ]
     },
     "execution_count": 72,
     "metadata": {},
     "output_type": "execute_result"
    }
   ],
   "source": [
    "X.head()"
   ]
  },
  {
   "cell_type": "code",
   "execution_count": null,
   "metadata": {
    "collapsed": true
   },
   "outputs": [],
   "source": []
  }
 ],
 "metadata": {
  "kernelspec": {
   "display_name": "Python 2",
   "language": "python",
   "name": "python2"
  },
  "language_info": {
   "codemirror_mode": {
    "name": "ipython",
    "version": 2
   },
   "file_extension": ".py",
   "mimetype": "text/x-python",
   "name": "python",
   "nbconvert_exporter": "python",
   "pygments_lexer": "ipython2",
   "version": "2.7.10"
  }
 },
 "nbformat": 4,
 "nbformat_minor": 0
}
