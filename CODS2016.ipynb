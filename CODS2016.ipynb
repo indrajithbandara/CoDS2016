{
 "cells": [
  {
   "cell_type": "markdown",
   "metadata": {},
   "source": [
    "# Understanding Labour Market"
   ]
  },
  {
   "cell_type": "markdown",
   "metadata": {},
   "source": [
    "## About the challenge\n",
    "\n",
    "** India produces 1.5 million engineers every year. A relevant question is what determines the salary and the jobs these engineers are offered right after graduation. Various factors such as college grades, candidate skills, proximity of the college to industrial hubs, the specialization one is in, market conditions for specific industries determine this. **\n",
    "\n",
    "** Given profiles of several students with varied background, use the data to get insights and answers to these following questions: **\n",
    "\n",
    "* **Predictive Modelling** - Given a new student profile, can we predict his/her **annual salary** from historic data?\n",
    "* **Recommendation** - Can we identify the key set of parameters in his profile changing which, she/he would get to earn a **better salary**?\n",
    "* **Data Insights** - Can we understand what factors in the labor market determine one’s salary? Is it just one’s skills or there are other factors which influence the return in the labor market? What signals and biases enter the labor market? Can we make interpretable models or visualize features to understand what determines salary – for instance do kids from smaller towns get lower salaries? This can help us understand inefficiencies in the labor market, which will be extremely useful for policy making and constructing interventions.\n",
    "* **Visualization** - Finally, can we visualize **where** and **what** jobs people get to get a quick and deeper understanding? "
   ]
  },
  {
   "cell_type": "code",
   "execution_count": 1,
   "metadata": {
    "collapsed": false
   },
   "outputs": [
    {
     "name": "stderr",
     "output_type": "stream",
     "text": [
      "C:\\Users\\Abhishek\\Anaconda2\\lib\\site-packages\\matplotlib\\__init__.py:872: UserWarning: axes.color_cycle is deprecated and replaced with axes.prop_cycle; please use the latter.\n",
      "  warnings.warn(self.msg_depr % (key, alt_key))\n"
     ]
    }
   ],
   "source": [
    "# display inline plots\n",
    "%matplotlib inline\n",
    "\n",
    "# import libraries for numerical and scientific computing\n",
    "import numpy as np\n",
    "\n",
    "# import matplotlib for plotting\n",
    "import matplotlib.pyplot as plt\n",
    "\n",
    "# import pandas for data wrangling and munging\n",
    "import pandas as pd\n",
    "\n",
    "# set some options for better view\n",
    "pd.set_option('display.width', 500)\n",
    "pd.set_option('display.max_columns', 100)\n",
    "pd.set_option('display.notebook_repr_html', True)\n",
    "\n",
    "# import plotting library built on top of matplotlib\n",
    "import seaborn as sns\n",
    "\n",
    "# set some settings related to style of plots that will render\n",
    "sns.set_style(\"whitegrid\")\n",
    "sns.set_context(\"poster\")\n",
    "\n",
    "import warnings\n",
    "warnings.filterwarnings('ignore')"
   ]
  },
  {
   "cell_type": "code",
   "execution_count": 35,
   "metadata": {
    "collapsed": false
   },
   "outputs": [],
   "source": [
    "train = pd.read_excel('./data/train.xlsx', parse_dates=True)\n",
    "test = pd.read_excel('./data/test.xlsx', parse_dates=True)"
   ]
  },
  {
   "cell_type": "code",
   "execution_count": 36,
   "metadata": {
    "collapsed": false
   },
   "outputs": [],
   "source": [
    "# set ID as the index\n",
    "train = train.set_index('ID')\n",
    "test = test.set_index('ID')"
   ]
  },
  {
   "cell_type": "markdown",
   "metadata": {},
   "source": [
    "## Data Description\n",
    "\n",
    "|Input|Description|\n",
    "|------|------|\n",
    "|ID  |A unique ID to identify a candidate  |\n",
    "|Salary  |Annual CTC offered to the candidate (in INR)  |\n",
    "|DOJ  |Date of joining the company  |\n",
    "|DOL  |Date of leaving the company  |\n",
    "|Designation  |Designation offered in the job  |\n",
    "|JobCity  |City in which the candidate is offered the job  |\n",
    "|Gender  |Candidate's gender  |\n",
    "|DOB  |Date of birth of candidate  |\n",
    "|10percentage  |Overall marks obtained in grade 10 examinations  |\n",
    "|10board  |The school board whose curriculum the candidate followed in grade 10  |\n",
    "|12graduation  |Year of graduation - senior year high school  |\n",
    "|12percentage  |Overall marks obtained in grade 12 examinations  |\n",
    "|12board  |The school board whose curriculum the candidate followed  |\n",
    "|CollegeID  |Unique ID identifying the university/college which the candidate attended for her/his undergraduate  |\n",
    "|CollegeTier  |Each college has been annotated as 1 or 2. The annotations have been computed from the average AMCAT scores obtained by the students in the college/university. Colleges with an average score above a threshold as tagged as 1 and others as 2.  |\n",
    "|Degree  |Degree obtained/pursued by the candidate  |\n",
    "|Specialization  |Specialization pursued by the candidate  |\n",
    "|CollegeGPA  |Aggregate GPA at graduation  |\n",
    "|CollegeCityID  |A unique ID to identify the city in which the college is located in.  |\n",
    "|CollegeCityTier  |The tier of the city in which the college is located in. This is annotated based on the population of the cities.  |\n",
    "|CollegeState  |Name of the state in which the college is located  |\n",
    "|GraduationYear  |Year of graduation (Bachelor's degree)  |\n",
    "|English  |Scores in AMCAT English section  |\n",
    "|Logical  |Score in AMCAT Logical ability section  |\n",
    "|Quant  |Score in AMCAT's Quantitative ability section  |\n",
    "|Domain  |Scores in AMCAT's domain module  |\n",
    "|ComputerProgramming  |Score in AMCAT's Computer programming section  |\n",
    "|ElectronicsAndSemicon  |Score in AMCAT's Electronics & Semiconductor Engineering section  |\n",
    "|ComputerScience  |Score in AMCAT's Computer Science section  |\n",
    "|MechanicalEngg  |Score in AMCAT's Mechanical Engineering section  |\n",
    "|ElectricalEngg  |Score in AMCAT's Electrical Engineering section  |\n",
    "|TelecomEngg  |Score in AMCAT's Telecommunication Engineering section  |\n",
    "|CivilEngg  |Score in AMCAT's Civil Engineering section  |\n",
    "|conscientiousness  |Score in AMCAT's Civil Engineering section  |\n",
    "|agreeableness  |Scores in one of the sections of AMCAT's personality test  |\n",
    "|extraversion  |Scores in one of the sections of AMCAT's personality test  |\n",
    "|nueroticism  |Scores in one of the sections of AMCAT's personality test  |\n",
    "|openess_to_experience  |Scores in one of the sections of AMCAT's personality test  |\n"
   ]
  },
  {
   "cell_type": "code",
   "execution_count": 37,
   "metadata": {
    "collapsed": true
   },
   "outputs": [],
   "source": [
    "# preprocess columns to lowercase letters\n",
    "train.columns = train.columns.map(lambda x: x.lower())\n",
    "test.columns = test.columns.map(lambda x: x.lower())"
   ]
  },
  {
   "cell_type": "code",
   "execution_count": 38,
   "metadata": {
    "collapsed": false
   },
   "outputs": [
    {
     "data": {
      "text/plain": [
       "Index([u'salary', u'doj', u'dol', u'designation', u'jobcity', u'gender', u'dob', u'10percentage', u'10board', u'12graduation', u'12percentage', u'12board', u'collegeid', u'collegetier', u'degree', u'specialization', u'collegegpa', u'collegecityid', u'collegecitytier', u'collegestate', u'graduationyear', u'english', u'logical', u'quant', u'domain', u'computerprogramming', u'electronicsandsemicon', u'computerscience', u'mechanicalengg', u'electricalengg', u'telecomengg', u'civilengg',\n",
       "       u'conscientiousness', u'agreeableness', u'extraversion', u'nueroticism', u'openess_to_experience'],\n",
       "      dtype='object')"
      ]
     },
     "execution_count": 38,
     "metadata": {},
     "output_type": "execute_result"
    }
   ],
   "source": [
    "train.columns"
   ]
  },
  {
   "cell_type": "markdown",
   "metadata": {},
   "source": [
    "## Data Exploration"
   ]
  },
  {
   "cell_type": "markdown",
   "metadata": {},
   "source": [
    "### Question: Which cities provide most job opportunities for engineers ?"
   ]
  },
  {
   "cell_type": "code",
   "execution_count": 39,
   "metadata": {
    "collapsed": false
   },
   "outputs": [
    {
     "data": {
      "text/plain": [
       "array([u'Bangalore', u'Indore', u'Chennai', u'Gurgaon', u'Manesar',\n",
       "       u'Hyderabad', u'Banglore', u'Noida', u'Kolkata', u'Pune', -1,\n",
       "       u'mohali', u'Jhansi', u'Delhi', u'Hyderabad ', u'Bangalore ',\n",
       "       u'noida', u'delhi', u'Bhubaneswar', u'Navi Mumbai', u'Mumbai',\n",
       "       u'New Delhi', u'Mangalore', u'Rewari', u'Gaziabaad', u'Bhiwadi',\n",
       "       u'Mysore', u'Rajkot', u'Greater Noida', u'Jaipur', u'noida ',\n",
       "       u'HYDERABAD', u'mysore', u'THANE', u'Maharajganj',\n",
       "       u'Thiruvananthapuram', u'Punchkula', u'Bhubaneshwar', u'Pune ',\n",
       "       u'coimbatore', u'Dhanbad', u'Lucknow', u'Trivandrum', u'kolkata',\n",
       "       u'mumbai', u'Gandhi Nagar', u'Una', u'Daman and Diu', u'chennai',\n",
       "       u'GURGOAN', u'vsakhapttnam', u'pune', u'Nagpur', u'Bhagalpur',\n",
       "       u'new delhi - jaisalmer', u'Coimbatore', u'Ahmedabad',\n",
       "       u'Kochi/Cochin', u'Bankura', u'Bengaluru', u'Mysore ', u'Kanpur ',\n",
       "       u'jaipur', u'Gurgaon ', u'bangalore', u'CHENNAI', u'Vijayawada',\n",
       "       u'Kochi', u'Beawar', u'Alwar', u'NOIDA', u'Greater noida',\n",
       "       u'Siliguri ', u'raipur', u'gurgaon', u'Bhopal', u'Faridabad',\n",
       "       u'Jodhpur', u'udaipur', u'Muzaffarpur', u'Kolkata`',\n",
       "       u'Bulandshahar', u'Haridwar', u'Raigarh', u'Visakhapatnam',\n",
       "       u'Jabalpur', u'hyderabad', u'Unnao', u'KOLKATA', u'Thane',\n",
       "       u'Aurangabad', u'Belgaum', u'gurgoan', u'Dehradun', u'Rudrapur',\n",
       "       u'Jamshedpur', u'vizag', u'Nouda', u'Dharamshala', u'Banagalore',\n",
       "       u'Hissar', u'Ranchi', u'BANGALORE', u'Madurai', u'Gurga',\n",
       "       u'Chandigarh', u'Australia', u' Chennai', u'CHEYYAR', u'Mumbai ',\n",
       "       u'sonepat', u'Ghaziabad', u'Pantnagar', u'Siliguri', u'mumbai ',\n",
       "       u'Jagdalpur', u'Chennai ', u'angul', u'Baroda', u' ariyalur',\n",
       "       u'Jowai', u'Kochi/Cochin, Chennai and Coimbatore', u'bhubaneswar',\n",
       "       u'Neemrana', u'VIZAG', u'Tirupathi', u'Lucknow ', u'Ahmedabad ',\n",
       "       u'Bhubneshwar', u'Noida ', u'pune ', u'Calicut', u'Gandhinagar',\n",
       "       u'LUCKNOW', u'Dubai', u'bengaluru', u'MUMBAI', u'Ahmednagar',\n",
       "       u'Nashik', u'New delhi', u'Bellary', u'Ludhiana', u'New Delhi ',\n",
       "       u'Muzaffarnagar', u'BHOPAL', u'Gurgoan', u'Gagret',\n",
       "       u'Indirapuram, Ghaziabad', u'Gwalior', u'new delhi', u'TRIVANDRUM',\n",
       "       u'Chennai & Mumbai', u'Rajasthan', u'Sonipat', u'Bareli', u'Kanpur',\n",
       "       u'Hospete', u'Miryalaguda', u' mumbai', u'Dharuhera', u'lucknow',\n",
       "       u'meerut', u'dehradun', u'Ganjam', u'Hubli', u'bangalore ',\n",
       "       u'NAVI MUMBAI', u'ncr', u'Agra', u'Trichy', u'kudankulam ,tarapur',\n",
       "       u'Ongole', u'Sambalpur', u'Pondicherry', u'Bundi',\n",
       "       u'SADULPUR,RAJGARH,DISTT-CHURU,RAJASTHAN', u'AM', u'Bikaner',\n",
       "       u'Vadodara', u'BAngalore', u'india', u'Asansol', u'Tirunelvelli',\n",
       "       u'Ernakulam', u'DELHI', u'Bilaspur', u'Chandrapur', u'Nanded',\n",
       "       u'Dharmapuri', u'Vandavasi', u'Rohtak', u'trivandrum', u'Nagpur ',\n",
       "       u'Udaipur', u'Patna', u'banglore', u'indore', u'Salem',\n",
       "       u'Nasikcity', u'Gandhinagar ', u'Technopark, Trivandrum',\n",
       "       u'Bharuch', u'Tornagallu', u'Raipur', u'Kolkata ', u'Jaspur',\n",
       "       u'Burdwan', u'Bhubaneswar ', u'Shimla', u'ahmedabad', u'Gajiabaad',\n",
       "       u'Jammu', u'Shahdol', u'Muvattupuzha', u'Al Jubail,Saudi Arabia',\n",
       "       u'Kalmar, Sweden', u'Secunderabad', u'A-64,sec-64,noida',\n",
       "       u'Ratnagiri', u'Jhajjar', u'Gulbarga', u'hyderabad(bhadurpally)',\n",
       "       u'Nalagarh', u'Chandigarh ', u'Jaipur ', u'Jeddah Saudi Arabia',\n",
       "       u' Delhi', u'PATNA', u'SHAHDOL', u'Chennai, Bangalore', u'Bhopal ',\n",
       "       u'Jamnagar', u'PUNE', u'Tirupati', u'Gonda', u'jamnagar',\n",
       "       u'chennai ', u'orissa', u'kharagpur', u'Trivandrum ',\n",
       "       u'Navi Mumbai , Hyderabad', u'Joshimath', u'chandigarh',\n",
       "       u'Bathinda', u'Johannesburg', u'kala amb ', u'Karnal', u'LONDON',\n",
       "       u'Kota', u'Panchkula', u'Baddi HP', u'Nagari',\n",
       "       u'Mettur, Tamil Nadu ', u'Durgapur', u'pondi', u'Surat', u'Kurnool',\n",
       "       u'kolhapur', u'Madurai ', u'GREATER NOIDA', u'Bhilai', u' Pune',\n",
       "       u'hderabad', u'KOTA', u'thane', u'Vizag', u'Bahadurgarh',\n",
       "       u'Rayagada, Odisha', u'kakinada', u'GURGAON', u'Varanasi', u'punr',\n",
       "       u'Nellore', u'patna', u'Meerut', u'hyderabad ', u'Sahibabad',\n",
       "       u'Howrah', u'BHUBANESWAR', u'Trichur', u'Ambala', u'Khopoli',\n",
       "       u'keral', u'Roorkee', u'Greater NOIDA', u'Navi mumbai',\n",
       "       u'ghaziabad', u'Allahabad', u'Delhi/NCR', u'Panchkula ', u'Ranchi ',\n",
       "       u'Jalandhar', u'manesar', u'vapi', u'PILANI', u'muzzafarpur',\n",
       "       u'RAS AL KHAIMAH', u'bihar', u'singaruli', u'KANPUR', u'Banglore ',\n",
       "       u'pondy', u'Mohali', u'Phagwara', u' Mumbai', u' bangalore',\n",
       "       u'GURAGAON', u'Baripada', u'MEERUT', u'Yamuna Nagar', u'shahibabad',\n",
       "       u'sampla', u'Guwahati', u'Rourkela', u'Banaglore', u'Vellore',\n",
       "       u'Dausa', u'latur (Maharashtra )', u'NEW DELHI', u'kanpur',\n",
       "       u'Mainpuri', u'karnal', u'Dammam', u'Haldia', u'sambalpur',\n",
       "       u'RAE BARELI', u'ranchi', u'jAipur', u'BANGLORE', u'Patiala',\n",
       "       u'Gorakhpur', u'new dehli', u'BANGALORE ', u'Ambala City', u'Karad',\n",
       "       u'Rajpura', u'Pilani', u'haryana', u'Asifabadbanglore'], dtype=object)"
      ]
     },
     "execution_count": 39,
     "metadata": {},
     "output_type": "execute_result"
    }
   ],
   "source": [
    "# lets check out the jobcity column\n",
    "train.jobcity.unique()"
   ]
  },
  {
   "cell_type": "markdown",
   "metadata": {},
   "source": [
    "** There are some missing values marked as -1, we would have to convert these into strings and then would have to preprocess these city names so that Noida, NOIDA, noida all count as one **"
   ]
  },
  {
   "cell_type": "code",
   "execution_count": 40,
   "metadata": {
    "collapsed": false
   },
   "outputs": [],
   "source": [
    "train['jobcity'] = train.jobcity.astype('str')\n",
    "test['jobcity'] = test.jobcity.astype('str')"
   ]
  },
  {
   "cell_type": "code",
   "execution_count": 42,
   "metadata": {
    "collapsed": false
   },
   "outputs": [],
   "source": [
    "def preprocess_city_name(city_name):\n",
    "    city_name = city_name.strip()\n",
    "    city_name = city_name.lower()\n",
    "    return city_name\n",
    "\n",
    "train['jobcity'] = train.jobcity.map(preprocess_city_name)\n",
    "test['jobcity'] = test.jobcity.map(preprocess_city_name)"
   ]
  },
  {
   "cell_type": "code",
   "execution_count": 44,
   "metadata": {
    "collapsed": false
   },
   "outputs": [
    {
     "data": {
      "text/plain": [
       "bangalore    665\n",
       "-1           461\n",
       "noida        389\n",
       "hyderabad    368\n",
       "pune         327\n",
       "chennai      313\n",
       "gurgaon      217\n",
       "new delhi    204\n",
       "mumbai       119\n",
       "kolkata      119\n",
       "Name: jobcity, dtype: int64"
      ]
     },
     "execution_count": 44,
     "metadata": {},
     "output_type": "execute_result"
    }
   ],
   "source": [
    "# now lets find out the count distribution for various cities\n",
    "train.jobcity.value_counts()[:10]"
   ]
  },
  {
   "cell_type": "markdown",
   "metadata": {},
   "source": [
    "** As you can see Bangalore leads the way followed by Noida, Hyderabad and Pune, most people did not mention their city.**"
   ]
  },
  {
   "cell_type": "markdown",
   "metadata": {},
   "source": [
    "## Question: What are the mean salaries in various cities ?"
   ]
  },
  {
   "cell_type": "code",
   "execution_count": 48,
   "metadata": {
    "collapsed": false
   },
   "outputs": [
    {
     "data": {
      "text/plain": [
       "jobcity\n",
       "kalmar, sweden    2300000\n",
       "london            2000000\n",
       "johannesburg      1745000\n",
       "angul             1300000\n",
       "maharajganj       1200000\n",
       "dubai             1140000\n",
       "muzaffarpur       1000000\n",
       "durgapur           850000\n",
       "dammam             775000\n",
       "panchkula          733333\n",
       "Name: salary, dtype: int64"
      ]
     },
     "execution_count": 48,
     "metadata": {},
     "output_type": "execute_result"
    }
   ],
   "source": [
    "# group data by city\n",
    "group_by_city = train.groupby('jobcity')['salary']\n",
    "group_by_city.mean().order(ascending=False)[:10]"
   ]
  },
  {
   "cell_type": "markdown",
   "metadata": {},
   "source": [
    "** As you can see Indians working abroad earn much more **"
   ]
  },
  {
   "cell_type": "markdown",
   "metadata": {},
   "source": [
    "## Question: What are the median salaries in various cities ?"
   ]
  },
  {
   "cell_type": "code",
   "execution_count": 49,
   "metadata": {
    "collapsed": false
   },
   "outputs": [
    {
     "data": {
      "text/plain": [
       "jobcity\n",
       "kalmar, sweden    2300000\n",
       "london            2000000\n",
       "johannesburg      1745000\n",
       "dubai             1300000\n",
       "angul             1300000\n",
       "maharajganj       1200000\n",
       "muzaffarpur       1000000\n",
       "durgapur           850000\n",
       "dammam             775000\n",
       "rajpura            700000\n",
       "Name: salary, dtype: int64"
      ]
     },
     "execution_count": 49,
     "metadata": {},
     "output_type": "execute_result"
    }
   ],
   "source": [
    "# group data by city\n",
    "group_by_city = train.groupby('jobcity')['salary']\n",
    "group_by_city.median().order(ascending=False)[:10]"
   ]
  },
  {
   "cell_type": "markdown",
   "metadata": {},
   "source": [
    "## Boxplot of salaries"
   ]
  },
  {
   "cell_type": "code",
   "execution_count": 51,
   "metadata": {
    "collapsed": false
   },
   "outputs": [
    {
     "data": {
      "image/png": "[encoded data removed]",
      "text/plain": [
       "<matplotlib.figure.Figure at 0x2171d128>"
      ]
     },
     "metadata": {},
     "output_type": "display_data"
    }
   ],
   "source": [
    "train.boxplot(column='salary')\n",
    "plt.title('Boxplot of salary');"
   ]
  },
  {
   "cell_type": "markdown",
   "metadata": {},
   "source": [
    "** Median salary is below 5 l.p.a **"
   ]
  },
  {
   "cell_type": "markdown",
   "metadata": {},
   "source": [
    "## Question: What are different specializations pursued by our engineers ?"
   ]
  },
  {
   "cell_type": "code",
   "execution_count": 52,
   "metadata": {
    "collapsed": false
   },
   "outputs": [
    {
     "data": {
      "text/plain": [
       "array([u'computer engineering',\n",
       "       u'electronics and communication engineering',\n",
       "       u'information technology', u'computer science & engineering',\n",
       "       u'mechanical engineering',\n",
       "       u'electronics and electrical engineering',\n",
       "       u'electronics & telecommunications',\n",
       "       u'instrumentation and control engineering', u'computer application',\n",
       "       u'electronics and computer engineering', u'electrical engineering',\n",
       "       u'applied electronics and instrumentation',\n",
       "       u'electronics & instrumentation eng',\n",
       "       u'information science engineering', u'civil engineering',\n",
       "       u'mechanical and automation',\n",
       "       u'industrial & production engineering',\n",
       "       u'control and instrumentation engineering',\n",
       "       u'metallurgical engineering',\n",
       "       u'electronics and instrumentation engineering',\n",
       "       u'electronics engineering', u'ceramic engineering',\n",
       "       u'chemical engineering', u'aeronautical engineering', u'other',\n",
       "       u'biotechnology', u'embedded systems technology',\n",
       "       u'electrical and power engineering',\n",
       "       u'computer science and technology', u'mechatronics',\n",
       "       u'automobile/automotive engineering', u'polymer technology',\n",
       "       u'mechanical & production engineering',\n",
       "       u'power systems and automation', u'instrumentation engineering',\n",
       "       u'telecommunication engineering',\n",
       "       u'industrial & management engineering', u'industrial engineering',\n",
       "       u'computer and communication engineering',\n",
       "       u'information & communication technology', u'information science',\n",
       "       u'internal combustion engine', u'computer networking',\n",
       "       u'biomedical engineering', u'electronics', u'computer science'], dtype=object)"
      ]
     },
     "execution_count": 52,
     "metadata": {},
     "output_type": "execute_result"
    }
   ],
   "source": [
    "train.specialization.unique()"
   ]
  },
  {
   "cell_type": "markdown",
   "metadata": {},
   "source": [
    "** Computer science, computer application, computer engineering, computer science & engineering are one and the same one thing **"
   ]
  },
  {
   "cell_type": "code",
   "execution_count": 53,
   "metadata": {
    "collapsed": true
   },
   "outputs": [],
   "source": [
    "specialization_map = {\n",
    "    'computer engineering': 'computer science',\n",
    "    'computer science & engineering': 'computer science',\n",
    "    'computer application': 'computer science',\n",
    "    'computer science and technology': 'computer science',\n",
    "    'computer and communication engineering': 'computer science',\n",
    "    'computer networking': 'computer science',\n",
    "    'electronics': 'electronics and communication engineering',\n",
    "    'electronics engineering': 'electronics and communication engineering'\n",
    "}\n",
    "\n",
    "def preprocess_specialization(specialization):\n",
    "    if specialization in specialization_map:\n",
    "        return specialization_map[specialization]\n",
    "    else:\n",
    "        return specialization\n",
    "\n",
    "train['specialization'] = train.specialization.map(preprocess_specialization)\n",
    "test['specialization'] = test.specialization.map(preprocess_specialization)"
   ]
  },
  {
   "cell_type": "code",
   "execution_count": 54,
   "metadata": {
    "collapsed": false
   },
   "outputs": [
    {
     "data": {
      "text/plain": [
       "computer science                               1598\n",
       "electronics and communication engineering       900\n",
       "information technology                          660\n",
       "mechanical engineering                          201\n",
       "electronics and electrical engineering          196\n",
       "electronics & telecommunications                121\n",
       "electrical engineering                           82\n",
       "electronics & instrumentation eng                32\n",
       "civil engineering                                29\n",
       "electronics and instrumentation engineering      27\n",
       "Name: specialization, dtype: int64"
      ]
     },
     "execution_count": 54,
     "metadata": {},
     "output_type": "execute_result"
    }
   ],
   "source": [
    "# lets see the count distribution among various specializations\n",
    "train.specialization.value_counts()[:10]"
   ]
  },
  {
   "cell_type": "markdown",
   "metadata": {},
   "source": [
    "** As you can see most of engineers have their specialization in computer science followed by electronics and communication\n",
    "engineering, information technology and mechanical engineering **"
   ]
  },
  {
   "cell_type": "markdown",
   "metadata": {},
   "source": [
    "## Does specialization has any effect on salary ?"
   ]
  },
  {
   "cell_type": "code",
   "execution_count": 62,
   "metadata": {
    "collapsed": true
   },
   "outputs": [],
   "source": [
    "def get_stats(group):\n",
    "    return {'min': group.min(), 'max': group.max(), 'count': group.count(), 'mean': group.mean()}"
   ]
  },
  {
   "cell_type": "code",
   "execution_count": 64,
   "metadata": {
    "collapsed": false
   },
   "outputs": [],
   "source": [
    "group_by_specialization = train.groupby('specialization')['salary']\n",
    "specialization_stats = group_by_specialization.apply(get_stats)"
   ]
  },
  {
   "cell_type": "code",
   "execution_count": 67,
   "metadata": {
    "collapsed": false
   },
   "outputs": [],
   "source": [
    "specialization_stats_unstack = specialization_stats.unstack(1)"
   ]
  },
  {
   "cell_type": "code",
   "execution_count": 68,
   "metadata": {
    "collapsed": false
   },
   "outputs": [
    {
     "data": {
      "text/plain": [
       "count       1598.000000\n",
       "max      4000000.000000\n",
       "mean      314161.451815\n",
       "min        35000.000000\n",
       "Name: computer science, dtype: float64"
      ]
     },
     "execution_count": 68,
     "metadata": {},
     "output_type": "execute_result"
    }
   ],
   "source": [
    "# how does people with cs degree perform ?\n",
    "specialization_stats_unstack.ix['computer science']"
   ]
  },
  {
   "cell_type": "markdown",
   "metadata": {},
   "source": [
    "** Engineers with CS degree have a mean annual salary of around 3.14 lakhs **"
   ]
  },
  {
   "cell_type": "code",
   "execution_count": 70,
   "metadata": {
    "collapsed": false
   },
   "outputs": [
    {
     "data": {
      "text/plain": [
       "count         1\n",
       "max      700000\n",
       "mean     700000\n",
       "min      700000\n",
       "Name: polymer technology, dtype: float64"
      ]
     },
     "execution_count": 70,
     "metadata": {},
     "output_type": "execute_result"
    }
   ],
   "source": [
    "## how does people with specialization in polymer technology ?\n",
    "specialization_stats_unstack.ix['polymer technology']"
   ]
  },
  {
   "cell_type": "markdown",
   "metadata": {},
   "source": [
    "** Engineers with degree in polymer technology earn a mean annual salary of around 7 lakhs. Since there was only one engineer in our dataset with this specialization so this just doesn't have enough substance. ** "
   ]
  },
  {
   "cell_type": "markdown",
   "metadata": {},
   "source": [
    "### Specialization statistics"
   ]
  },
  {
   "cell_type": "code",
   "execution_count": 71,
   "metadata": {
    "collapsed": false
   },
   "outputs": [
    {
     "data": {
      "text/html": [
       "<div>\n",
       "<table border=\"1\" class=\"dataframe\">\n",
       "  <thead>\n",
       "    <tr style=\"text-align: right;\">\n",
       "      <th></th>\n",
       "      <th>count</th>\n",
       "      <th>max</th>\n",
       "      <th>mean</th>\n",
       "      <th>min</th>\n",
       "    </tr>\n",
       "    <tr>\n",
       "      <th>specialization</th>\n",
       "      <th></th>\n",
       "      <th></th>\n",
       "      <th></th>\n",
       "      <th></th>\n",
       "    </tr>\n",
       "  </thead>\n",
       "  <tbody>\n",
       "    <tr>\n",
       "      <th>aeronautical engineering</th>\n",
       "      <td>3</td>\n",
       "      <td>180000</td>\n",
       "      <td>148333.333333</td>\n",
       "      <td>120000</td>\n",
       "    </tr>\n",
       "    <tr>\n",
       "      <th>applied electronics and instrumentation</th>\n",
       "      <td>9</td>\n",
       "      <td>950000</td>\n",
       "      <td>348333.333333</td>\n",
       "      <td>175000</td>\n",
       "    </tr>\n",
       "    <tr>\n",
       "      <th>automobile/automotive engineering</th>\n",
       "      <td>5</td>\n",
       "      <td>400000</td>\n",
       "      <td>222000.000000</td>\n",
       "      <td>100000</td>\n",
       "    </tr>\n",
       "    <tr>\n",
       "      <th>biomedical engineering</th>\n",
       "      <td>2</td>\n",
       "      <td>435000</td>\n",
       "      <td>290000.000000</td>\n",
       "      <td>145000</td>\n",
       "    </tr>\n",
       "    <tr>\n",
       "      <th>biotechnology</th>\n",
       "      <td>15</td>\n",
       "      <td>450000</td>\n",
       "      <td>254333.333333</td>\n",
       "      <td>100000</td>\n",
       "    </tr>\n",
       "    <tr>\n",
       "      <th>ceramic engineering</th>\n",
       "      <td>1</td>\n",
       "      <td>335000</td>\n",
       "      <td>335000.000000</td>\n",
       "      <td>335000</td>\n",
       "    </tr>\n",
       "    <tr>\n",
       "      <th>chemical engineering</th>\n",
       "      <td>9</td>\n",
       "      <td>730000</td>\n",
       "      <td>370000.000000</td>\n",
       "      <td>100000</td>\n",
       "    </tr>\n",
       "    <tr>\n",
       "      <th>civil engineering</th>\n",
       "      <td>29</td>\n",
       "      <td>800000</td>\n",
       "      <td>381206.896552</td>\n",
       "      <td>110000</td>\n",
       "    </tr>\n",
       "    <tr>\n",
       "      <th>computer science</th>\n",
       "      <td>1598</td>\n",
       "      <td>4000000</td>\n",
       "      <td>314161.451815</td>\n",
       "      <td>35000</td>\n",
       "    </tr>\n",
       "    <tr>\n",
       "      <th>control and instrumentation engineering</th>\n",
       "      <td>1</td>\n",
       "      <td>305000</td>\n",
       "      <td>305000.000000</td>\n",
       "      <td>305000</td>\n",
       "    </tr>\n",
       "    <tr>\n",
       "      <th>electrical and power engineering</th>\n",
       "      <td>2</td>\n",
       "      <td>240000</td>\n",
       "      <td>210000.000000</td>\n",
       "      <td>180000</td>\n",
       "    </tr>\n",
       "    <tr>\n",
       "      <th>electrical engineering</th>\n",
       "      <td>82</td>\n",
       "      <td>1860000</td>\n",
       "      <td>293780.487805</td>\n",
       "      <td>40000</td>\n",
       "    </tr>\n",
       "    <tr>\n",
       "      <th>electronics &amp; instrumentation eng</th>\n",
       "      <td>32</td>\n",
       "      <td>2300000</td>\n",
       "      <td>364531.250000</td>\n",
       "      <td>100000</td>\n",
       "    </tr>\n",
       "    <tr>\n",
       "      <th>electronics &amp; telecommunications</th>\n",
       "      <td>121</td>\n",
       "      <td>630000</td>\n",
       "      <td>293553.719008</td>\n",
       "      <td>45000</td>\n",
       "    </tr>\n",
       "    <tr>\n",
       "      <th>electronics and communication engineering</th>\n",
       "      <td>900</td>\n",
       "      <td>3000000</td>\n",
       "      <td>296161.111111</td>\n",
       "      <td>40000</td>\n",
       "    </tr>\n",
       "    <tr>\n",
       "      <th>electronics and computer engineering</th>\n",
       "      <td>3</td>\n",
       "      <td>300000</td>\n",
       "      <td>220000.000000</td>\n",
       "      <td>120000</td>\n",
       "    </tr>\n",
       "    <tr>\n",
       "      <th>electronics and electrical engineering</th>\n",
       "      <td>196</td>\n",
       "      <td>2500000</td>\n",
       "      <td>286913.265306</td>\n",
       "      <td>45000</td>\n",
       "    </tr>\n",
       "    <tr>\n",
       "      <th>electronics and instrumentation engineering</th>\n",
       "      <td>27</td>\n",
       "      <td>1745000</td>\n",
       "      <td>327407.407407</td>\n",
       "      <td>50000</td>\n",
       "    </tr>\n",
       "    <tr>\n",
       "      <th>embedded systems technology</th>\n",
       "      <td>1</td>\n",
       "      <td>200000</td>\n",
       "      <td>200000.000000</td>\n",
       "      <td>200000</td>\n",
       "    </tr>\n",
       "    <tr>\n",
       "      <th>industrial &amp; management engineering</th>\n",
       "      <td>1</td>\n",
       "      <td>320000</td>\n",
       "      <td>320000.000000</td>\n",
       "      <td>320000</td>\n",
       "    </tr>\n",
       "    <tr>\n",
       "      <th>industrial &amp; production engineering</th>\n",
       "      <td>10</td>\n",
       "      <td>660000</td>\n",
       "      <td>384500.000000</td>\n",
       "      <td>170000</td>\n",
       "    </tr>\n",
       "    <tr>\n",
       "      <th>industrial engineering</th>\n",
       "      <td>2</td>\n",
       "      <td>390000</td>\n",
       "      <td>370000.000000</td>\n",
       "      <td>350000</td>\n",
       "    </tr>\n",
       "    <tr>\n",
       "      <th>information &amp; communication technology</th>\n",
       "      <td>2</td>\n",
       "      <td>450000</td>\n",
       "      <td>387500.000000</td>\n",
       "      <td>325000</td>\n",
       "    </tr>\n",
       "    <tr>\n",
       "      <th>information science</th>\n",
       "      <td>1</td>\n",
       "      <td>460000</td>\n",
       "      <td>460000.000000</td>\n",
       "      <td>460000</td>\n",
       "    </tr>\n",
       "    <tr>\n",
       "      <th>information science engineering</th>\n",
       "      <td>27</td>\n",
       "      <td>570000</td>\n",
       "      <td>276296.296296</td>\n",
       "      <td>100000</td>\n",
       "    </tr>\n",
       "    <tr>\n",
       "      <th>information technology</th>\n",
       "      <td>660</td>\n",
       "      <td>2000000</td>\n",
       "      <td>308492.424242</td>\n",
       "      <td>35000</td>\n",
       "    </tr>\n",
       "    <tr>\n",
       "      <th>instrumentation and control engineering</th>\n",
       "      <td>20</td>\n",
       "      <td>1300000</td>\n",
       "      <td>394000.000000</td>\n",
       "      <td>150000</td>\n",
       "    </tr>\n",
       "    <tr>\n",
       "      <th>instrumentation engineering</th>\n",
       "      <td>4</td>\n",
       "      <td>260000</td>\n",
       "      <td>240000.000000</td>\n",
       "      <td>200000</td>\n",
       "    </tr>\n",
       "    <tr>\n",
       "      <th>internal combustion engine</th>\n",
       "      <td>1</td>\n",
       "      <td>360000</td>\n",
       "      <td>360000.000000</td>\n",
       "      <td>360000</td>\n",
       "    </tr>\n",
       "    <tr>\n",
       "      <th>mechanical &amp; production engineering</th>\n",
       "      <td>1</td>\n",
       "      <td>100000</td>\n",
       "      <td>100000.000000</td>\n",
       "      <td>100000</td>\n",
       "    </tr>\n",
       "    <tr>\n",
       "      <th>mechanical and automation</th>\n",
       "      <td>5</td>\n",
       "      <td>500000</td>\n",
       "      <td>309000.000000</td>\n",
       "      <td>180000</td>\n",
       "    </tr>\n",
       "    <tr>\n",
       "      <th>mechanical engineering</th>\n",
       "      <td>201</td>\n",
       "      <td>1300000</td>\n",
       "      <td>317457.711443</td>\n",
       "      <td>60000</td>\n",
       "    </tr>\n",
       "    <tr>\n",
       "      <th>mechatronics</th>\n",
       "      <td>4</td>\n",
       "      <td>350000</td>\n",
       "      <td>253750.000000</td>\n",
       "      <td>100000</td>\n",
       "    </tr>\n",
       "    <tr>\n",
       "      <th>metallurgical engineering</th>\n",
       "      <td>2</td>\n",
       "      <td>375000</td>\n",
       "      <td>337500.000000</td>\n",
       "      <td>300000</td>\n",
       "    </tr>\n",
       "    <tr>\n",
       "      <th>other</th>\n",
       "      <td>13</td>\n",
       "      <td>600000</td>\n",
       "      <td>266538.461538</td>\n",
       "      <td>110000</td>\n",
       "    </tr>\n",
       "    <tr>\n",
       "      <th>polymer technology</th>\n",
       "      <td>1</td>\n",
       "      <td>700000</td>\n",
       "      <td>700000.000000</td>\n",
       "      <td>700000</td>\n",
       "    </tr>\n",
       "    <tr>\n",
       "      <th>power systems and automation</th>\n",
       "      <td>1</td>\n",
       "      <td>100000</td>\n",
       "      <td>100000.000000</td>\n",
       "      <td>100000</td>\n",
       "    </tr>\n",
       "    <tr>\n",
       "      <th>telecommunication engineering</th>\n",
       "      <td>6</td>\n",
       "      <td>400000</td>\n",
       "      <td>342500.000000</td>\n",
       "      <td>275000</td>\n",
       "    </tr>\n",
       "  </tbody>\n",
       "</table>\n",
       "</div>"
      ],
      "text/plain": [
       "                                             count      max           mean     min\n",
       "specialization                                                                    \n",
       "aeronautical engineering                         3   180000  148333.333333  120000\n",
       "applied electronics and instrumentation          9   950000  348333.333333  175000\n",
       "automobile/automotive engineering                5   400000  222000.000000  100000\n",
       "biomedical engineering                           2   435000  290000.000000  145000\n",
       "biotechnology                                   15   450000  254333.333333  100000\n",
       "ceramic engineering                              1   335000  335000.000000  335000\n",
       "chemical engineering                             9   730000  370000.000000  100000\n",
       "civil engineering                               29   800000  381206.896552  110000\n",
       "computer science                              1598  4000000  314161.451815   35000\n",
       "control and instrumentation engineering          1   305000  305000.000000  305000\n",
       "electrical and power engineering                 2   240000  210000.000000  180000\n",
       "electrical engineering                          82  1860000  293780.487805   40000\n",
       "electronics & instrumentation eng               32  2300000  364531.250000  100000\n",
       "electronics & telecommunications               121   630000  293553.719008   45000\n",
       "electronics and communication engineering      900  3000000  296161.111111   40000\n",
       "electronics and computer engineering             3   300000  220000.000000  120000\n",
       "electronics and electrical engineering         196  2500000  286913.265306   45000\n",
       "electronics and instrumentation engineering     27  1745000  327407.407407   50000\n",
       "embedded systems technology                      1   200000  200000.000000  200000\n",
       "industrial & management engineering              1   320000  320000.000000  320000\n",
       "industrial & production engineering             10   660000  384500.000000  170000\n",
       "industrial engineering                           2   390000  370000.000000  350000\n",
       "information & communication technology           2   450000  387500.000000  325000\n",
       "information science                              1   460000  460000.000000  460000\n",
       "information science engineering                 27   570000  276296.296296  100000\n",
       "information technology                         660  2000000  308492.424242   35000\n",
       "instrumentation and control engineering         20  1300000  394000.000000  150000\n",
       "instrumentation engineering                      4   260000  240000.000000  200000\n",
       "internal combustion engine                       1   360000  360000.000000  360000\n",
       "mechanical & production engineering              1   100000  100000.000000  100000\n",
       "mechanical and automation                        5   500000  309000.000000  180000\n",
       "mechanical engineering                         201  1300000  317457.711443   60000\n",
       "mechatronics                                     4   350000  253750.000000  100000\n",
       "metallurgical engineering                        2   375000  337500.000000  300000\n",
       "other                                           13   600000  266538.461538  110000\n",
       "polymer technology                               1   700000  700000.000000  700000\n",
       "power systems and automation                     1   100000  100000.000000  100000\n",
       "telecommunication engineering                    6   400000  342500.000000  275000"
      ]
     },
     "execution_count": 71,
     "metadata": {},
     "output_type": "execute_result"
    }
   ],
   "source": [
    "specialization_stats_unstack"
   ]
  },
  {
   "cell_type": "code",
   "execution_count": null,
   "metadata": {
    "collapsed": true
   },
   "outputs": [],
   "source": []
  }
 ],
 "metadata": {
  "kernelspec": {
   "display_name": "Python 2",
   "language": "python",
   "name": "python2"
  },
  "language_info": {
   "codemirror_mode": {
    "name": "ipython",
    "version": 2
   },
   "file_extension": ".py",
   "mimetype": "text/x-python",
   "name": "python",
   "nbconvert_exporter": "python",
   "pygments_lexer": "ipython2",
   "version": "2.7.10"
  }
 },
 "nbformat": 4,
 "nbformat_minor": 0
}
