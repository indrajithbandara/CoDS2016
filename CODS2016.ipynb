{
 "cells": [
  {
   "cell_type": "markdown",
   "metadata": {},
   "source": [
    "# Understanding Labour Market"
   ]
  },
  {
   "cell_type": "markdown",
   "metadata": {},
   "source": [
    "## About the challenge\n",
    "\n",
    "** India produces 1.5 million engineers every year. A relevant question is what determines the salary and the jobs these engineers are offered right after graduation. Various factors such as college grades, candidate skills, proximity of the college to industrial hubs, the specialization one is in, market conditions for specific industries determine this. **\n",
    "\n",
    "** Given profiles of several students with varied background, use the data to get insights and answers to these following questions: **\n",
    "\n",
    "* **Predictive Modelling** - Given a new student profile, can we predict his/her **annual salary** from historic data?\n",
    "* **Recommendation** - Can we identify the key set of parameters in his profile changing which, she/he would get to earn a **better salary**?\n",
    "* **Data Insights** - Can we understand what factors in the labor market determine one’s salary? Is it just one’s skills or there are other factors which influence the return in the labor market? What signals and biases enter the labor market? Can we make interpretable models or visualize features to understand what determines salary – for instance do kids from smaller towns get lower salaries? This can help us understand inefficiencies in the labor market, which will be extremely useful for policy making and constructing interventions.\n",
    "* **Visualization** - Finally, can we visualize **where** and **what** jobs people get to get a quick and deeper understanding? "
   ]
  },
  {
   "cell_type": "code",
   "execution_count": 1,
   "metadata": {
    "collapsed": false
   },
   "outputs": [
    {
     "name": "stderr",
     "output_type": "stream",
     "text": [
      "C:\\Users\\Abhishek\\Anaconda2\\lib\\site-packages\\matplotlib\\__init__.py:872: UserWarning: axes.color_cycle is deprecated and replaced with axes.prop_cycle; please use the latter.\n",
      "  warnings.warn(self.msg_depr % (key, alt_key))\n"
     ]
    }
   ],
   "source": [
    "# display inline plots\n",
    "%matplotlib inline\n",
    "\n",
    "# import libraries for numerical and scientific computing\n",
    "import numpy as np\n",
    "\n",
    "# import matplotlib for plotting\n",
    "import matplotlib.pyplot as plt\n",
    "\n",
    "# import pandas for data wrangling and munging\n",
    "import pandas as pd\n",
    "\n",
    "# set some options for better view\n",
    "pd.set_option('display.width', 500)\n",
    "pd.set_option('display.max_columns', 100)\n",
    "pd.set_option('display.notebook_repr_html', True)\n",
    "\n",
    "# import plotting library built on top of matplotlib\n",
    "import seaborn as sns\n",
    "\n",
    "# set some settings related to style of plots that will render\n",
    "sns.set_style(\"whitegrid\")\n",
    "sns.set_context(\"poster\")\n",
    "\n",
    "import warnings\n",
    "warnings.filterwarnings('ignore')"
   ]
  },
  {
   "cell_type": "code",
   "execution_count": 35,
   "metadata": {
    "collapsed": false
   },
   "outputs": [],
   "source": [
    "train = pd.read_excel('./data/train.xlsx', parse_dates=True)\n",
    "test = pd.read_excel('./data/test.xlsx', parse_dates=True)"
   ]
  },
  {
   "cell_type": "code",
   "execution_count": 36,
   "metadata": {
    "collapsed": false
   },
   "outputs": [],
   "source": [
    "# set ID as the index\n",
    "train = train.set_index('ID')\n",
    "test = test.set_index('ID')"
   ]
  },
  {
   "cell_type": "markdown",
   "metadata": {},
   "source": [
    "## Data Description\n",
    "\n",
    "|Input|Description|\n",
    "|------|------|\n",
    "|ID  |A unique ID to identify a candidate  |\n",
    "|Salary  |Annual CTC offered to the candidate (in INR)  |\n",
    "|DOJ  |Date of joining the company  |\n",
    "|DOL  |Date of leaving the company  |\n",
    "|Designation  |Designation offered in the job  |\n",
    "|JobCity  |City in which the candidate is offered the job  |\n",
    "|Gender  |Candidate's gender  |\n",
    "|DOB  |Date of birth of candidate  |\n",
    "|10percentage  |Overall marks obtained in grade 10 examinations  |\n",
    "|10board  |The school board whose curriculum the candidate followed in grade 10  |\n",
    "|12graduation  |Year of graduation - senior year high school  |\n",
    "|12percentage  |Overall marks obtained in grade 12 examinations  |\n",
    "|12board  |The school board whose curriculum the candidate followed  |\n",
    "|CollegeID  |Unique ID identifying the university/college which the candidate attended for her/his undergraduate  |\n",
    "|CollegeTier  |Each college has been annotated as 1 or 2. The annotations have been computed from the average AMCAT scores obtained by the students in the college/university. Colleges with an average score above a threshold as tagged as 1 and others as 2.  |\n",
    "|Degree  |Degree obtained/pursued by the candidate  |\n",
    "|Specialization  |Specialization pursued by the candidate  |\n",
    "|CollegeGPA  |Aggregate GPA at graduation  |\n",
    "|CollegeCityID  |A unique ID to identify the city in which the college is located in.  |\n",
    "|CollegeCityTier  |The tier of the city in which the college is located in. This is annotated based on the population of the cities.  |\n",
    "|CollegeState  |Name of the state in which the college is located  |\n",
    "|GraduationYear  |Year of graduation (Bachelor's degree)  |\n",
    "|English  |Scores in AMCAT English section  |\n",
    "|Logical  |Score in AMCAT Logical ability section  |\n",
    "|Quant  |Score in AMCAT's Quantitative ability section  |\n",
    "|Domain  |Scores in AMCAT's domain module  |\n",
    "|ComputerProgramming  |Score in AMCAT's Computer programming section  |\n",
    "|ElectronicsAndSemicon  |Score in AMCAT's Electronics & Semiconductor Engineering section  |\n",
    "|ComputerScience  |Score in AMCAT's Computer Science section  |\n",
    "|MechanicalEngg  |Score in AMCAT's Mechanical Engineering section  |\n",
    "|ElectricalEngg  |Score in AMCAT's Electrical Engineering section  |\n",
    "|TelecomEngg  |Score in AMCAT's Telecommunication Engineering section  |\n",
    "|CivilEngg  |Score in AMCAT's Civil Engineering section  |\n",
    "|conscientiousness  |Score in AMCAT's Civil Engineering section  |\n",
    "|agreeableness  |Scores in one of the sections of AMCAT's personality test  |\n",
    "|extraversion  |Scores in one of the sections of AMCAT's personality test  |\n",
    "|nueroticism  |Scores in one of the sections of AMCAT's personality test  |\n",
    "|openess_to_experience  |Scores in one of the sections of AMCAT's personality test  |\n"
   ]
  },
  {
   "cell_type": "code",
   "execution_count": 37,
   "metadata": {
    "collapsed": true
   },
   "outputs": [],
   "source": [
    "# preprocess columns to lowercase letters\n",
    "train.columns = train.columns.map(lambda x: x.lower())\n",
    "test.columns = test.columns.map(lambda x: x.lower())"
   ]
  },
  {
   "cell_type": "code",
   "execution_count": 38,
   "metadata": {
    "collapsed": false
   },
   "outputs": [
    {
     "data": {
      "text/plain": [
       "Index([u'salary', u'doj', u'dol', u'designation', u'jobcity', u'gender', u'dob', u'10percentage', u'10board', u'12graduation', u'12percentage', u'12board', u'collegeid', u'collegetier', u'degree', u'specialization', u'collegegpa', u'collegecityid', u'collegecitytier', u'collegestate', u'graduationyear', u'english', u'logical', u'quant', u'domain', u'computerprogramming', u'electronicsandsemicon', u'computerscience', u'mechanicalengg', u'electricalengg', u'telecomengg', u'civilengg',\n",
       "       u'conscientiousness', u'agreeableness', u'extraversion', u'nueroticism', u'openess_to_experience'],\n",
       "      dtype='object')"
      ]
     },
     "execution_count": 38,
     "metadata": {},
     "output_type": "execute_result"
    }
   ],
   "source": [
    "train.columns"
   ]
  },
  {
   "cell_type": "markdown",
   "metadata": {},
   "source": [
    "## Data Exploration"
   ]
  },
  {
   "cell_type": "markdown",
   "metadata": {},
   "source": [
    "### Question: Which cities provide the most job opportunities for engineers ?"
   ]
  },
  {
   "cell_type": "code",
   "execution_count": 39,
   "metadata": {
    "collapsed": false
   },
   "outputs": [
    {
     "data": {
      "text/plain": [
       "array([u'Bangalore', u'Indore', u'Chennai', u'Gurgaon', u'Manesar',\n",
       "       u'Hyderabad', u'Banglore', u'Noida', u'Kolkata', u'Pune', -1,\n",
       "       u'mohali', u'Jhansi', u'Delhi', u'Hyderabad ', u'Bangalore ',\n",
       "       u'noida', u'delhi', u'Bhubaneswar', u'Navi Mumbai', u'Mumbai',\n",
       "       u'New Delhi', u'Mangalore', u'Rewari', u'Gaziabaad', u'Bhiwadi',\n",
       "       u'Mysore', u'Rajkot', u'Greater Noida', u'Jaipur', u'noida ',\n",
       "       u'HYDERABAD', u'mysore', u'THANE', u'Maharajganj',\n",
       "       u'Thiruvananthapuram', u'Punchkula', u'Bhubaneshwar', u'Pune ',\n",
       "       u'coimbatore', u'Dhanbad', u'Lucknow', u'Trivandrum', u'kolkata',\n",
       "       u'mumbai', u'Gandhi Nagar', u'Una', u'Daman and Diu', u'chennai',\n",
       "       u'GURGOAN', u'vsakhapttnam', u'pune', u'Nagpur', u'Bhagalpur',\n",
       "       u'new delhi - jaisalmer', u'Coimbatore', u'Ahmedabad',\n",
       "       u'Kochi/Cochin', u'Bankura', u'Bengaluru', u'Mysore ', u'Kanpur ',\n",
       "       u'jaipur', u'Gurgaon ', u'bangalore', u'CHENNAI', u'Vijayawada',\n",
       "       u'Kochi', u'Beawar', u'Alwar', u'NOIDA', u'Greater noida',\n",
       "       u'Siliguri ', u'raipur', u'gurgaon', u'Bhopal', u'Faridabad',\n",
       "       u'Jodhpur', u'udaipur', u'Muzaffarpur', u'Kolkata`',\n",
       "       u'Bulandshahar', u'Haridwar', u'Raigarh', u'Visakhapatnam',\n",
       "       u'Jabalpur', u'hyderabad', u'Unnao', u'KOLKATA', u'Thane',\n",
       "       u'Aurangabad', u'Belgaum', u'gurgoan', u'Dehradun', u'Rudrapur',\n",
       "       u'Jamshedpur', u'vizag', u'Nouda', u'Dharamshala', u'Banagalore',\n",
       "       u'Hissar', u'Ranchi', u'BANGALORE', u'Madurai', u'Gurga',\n",
       "       u'Chandigarh', u'Australia', u' Chennai', u'CHEYYAR', u'Mumbai ',\n",
       "       u'sonepat', u'Ghaziabad', u'Pantnagar', u'Siliguri', u'mumbai ',\n",
       "       u'Jagdalpur', u'Chennai ', u'angul', u'Baroda', u' ariyalur',\n",
       "       u'Jowai', u'Kochi/Cochin, Chennai and Coimbatore', u'bhubaneswar',\n",
       "       u'Neemrana', u'VIZAG', u'Tirupathi', u'Lucknow ', u'Ahmedabad ',\n",
       "       u'Bhubneshwar', u'Noida ', u'pune ', u'Calicut', u'Gandhinagar',\n",
       "       u'LUCKNOW', u'Dubai', u'bengaluru', u'MUMBAI', u'Ahmednagar',\n",
       "       u'Nashik', u'New delhi', u'Bellary', u'Ludhiana', u'New Delhi ',\n",
       "       u'Muzaffarnagar', u'BHOPAL', u'Gurgoan', u'Gagret',\n",
       "       u'Indirapuram, Ghaziabad', u'Gwalior', u'new delhi', u'TRIVANDRUM',\n",
       "       u'Chennai & Mumbai', u'Rajasthan', u'Sonipat', u'Bareli', u'Kanpur',\n",
       "       u'Hospete', u'Miryalaguda', u' mumbai', u'Dharuhera', u'lucknow',\n",
       "       u'meerut', u'dehradun', u'Ganjam', u'Hubli', u'bangalore ',\n",
       "       u'NAVI MUMBAI', u'ncr', u'Agra', u'Trichy', u'kudankulam ,tarapur',\n",
       "       u'Ongole', u'Sambalpur', u'Pondicherry', u'Bundi',\n",
       "       u'SADULPUR,RAJGARH,DISTT-CHURU,RAJASTHAN', u'AM', u'Bikaner',\n",
       "       u'Vadodara', u'BAngalore', u'india', u'Asansol', u'Tirunelvelli',\n",
       "       u'Ernakulam', u'DELHI', u'Bilaspur', u'Chandrapur', u'Nanded',\n",
       "       u'Dharmapuri', u'Vandavasi', u'Rohtak', u'trivandrum', u'Nagpur ',\n",
       "       u'Udaipur', u'Patna', u'banglore', u'indore', u'Salem',\n",
       "       u'Nasikcity', u'Gandhinagar ', u'Technopark, Trivandrum',\n",
       "       u'Bharuch', u'Tornagallu', u'Raipur', u'Kolkata ', u'Jaspur',\n",
       "       u'Burdwan', u'Bhubaneswar ', u'Shimla', u'ahmedabad', u'Gajiabaad',\n",
       "       u'Jammu', u'Shahdol', u'Muvattupuzha', u'Al Jubail,Saudi Arabia',\n",
       "       u'Kalmar, Sweden', u'Secunderabad', u'A-64,sec-64,noida',\n",
       "       u'Ratnagiri', u'Jhajjar', u'Gulbarga', u'hyderabad(bhadurpally)',\n",
       "       u'Nalagarh', u'Chandigarh ', u'Jaipur ', u'Jeddah Saudi Arabia',\n",
       "       u' Delhi', u'PATNA', u'SHAHDOL', u'Chennai, Bangalore', u'Bhopal ',\n",
       "       u'Jamnagar', u'PUNE', u'Tirupati', u'Gonda', u'jamnagar',\n",
       "       u'chennai ', u'orissa', u'kharagpur', u'Trivandrum ',\n",
       "       u'Navi Mumbai , Hyderabad', u'Joshimath', u'chandigarh',\n",
       "       u'Bathinda', u'Johannesburg', u'kala amb ', u'Karnal', u'LONDON',\n",
       "       u'Kota', u'Panchkula', u'Baddi HP', u'Nagari',\n",
       "       u'Mettur, Tamil Nadu ', u'Durgapur', u'pondi', u'Surat', u'Kurnool',\n",
       "       u'kolhapur', u'Madurai ', u'GREATER NOIDA', u'Bhilai', u' Pune',\n",
       "       u'hderabad', u'KOTA', u'thane', u'Vizag', u'Bahadurgarh',\n",
       "       u'Rayagada, Odisha', u'kakinada', u'GURGAON', u'Varanasi', u'punr',\n",
       "       u'Nellore', u'patna', u'Meerut', u'hyderabad ', u'Sahibabad',\n",
       "       u'Howrah', u'BHUBANESWAR', u'Trichur', u'Ambala', u'Khopoli',\n",
       "       u'keral', u'Roorkee', u'Greater NOIDA', u'Navi mumbai',\n",
       "       u'ghaziabad', u'Allahabad', u'Delhi/NCR', u'Panchkula ', u'Ranchi ',\n",
       "       u'Jalandhar', u'manesar', u'vapi', u'PILANI', u'muzzafarpur',\n",
       "       u'RAS AL KHAIMAH', u'bihar', u'singaruli', u'KANPUR', u'Banglore ',\n",
       "       u'pondy', u'Mohali', u'Phagwara', u' Mumbai', u' bangalore',\n",
       "       u'GURAGAON', u'Baripada', u'MEERUT', u'Yamuna Nagar', u'shahibabad',\n",
       "       u'sampla', u'Guwahati', u'Rourkela', u'Banaglore', u'Vellore',\n",
       "       u'Dausa', u'latur (Maharashtra )', u'NEW DELHI', u'kanpur',\n",
       "       u'Mainpuri', u'karnal', u'Dammam', u'Haldia', u'sambalpur',\n",
       "       u'RAE BARELI', u'ranchi', u'jAipur', u'BANGLORE', u'Patiala',\n",
       "       u'Gorakhpur', u'new dehli', u'BANGALORE ', u'Ambala City', u'Karad',\n",
       "       u'Rajpura', u'Pilani', u'haryana', u'Asifabadbanglore'], dtype=object)"
      ]
     },
     "execution_count": 39,
     "metadata": {},
     "output_type": "execute_result"
    }
   ],
   "source": [
    "# lets check out the jobcity column\n",
    "train.jobcity.unique()"
   ]
  },
  {
   "cell_type": "markdown",
   "metadata": {},
   "source": [
    "** There are some missing values marked as -1, we would have to convert these into strings and then would have to preprocess these city names so that Noida, NOIDA, noida all count as same **"
   ]
  },
  {
   "cell_type": "code",
   "execution_count": 40,
   "metadata": {
    "collapsed": false
   },
   "outputs": [],
   "source": [
    "train['jobcity'] = train.jobcity.astype('str')\n",
    "test['jobcity'] = test.jobcity.astype('str')"
   ]
  },
  {
   "cell_type": "code",
   "execution_count": 42,
   "metadata": {
    "collapsed": false
   },
   "outputs": [],
   "source": [
    "def preprocess_city_name(city_name):\n",
    "    city_name = city_name.strip()\n",
    "    city_name = city_name.lower()\n",
    "    return city_name\n",
    "\n",
    "train['jobcity'] = train.jobcity.map(preprocess_city_name)\n",
    "test['jobcity'] = test.jobcity.map(preprocess_city_name)"
   ]
  },
  {
   "cell_type": "code",
   "execution_count": 44,
   "metadata": {
    "collapsed": false
   },
   "outputs": [
    {
     "data": {
      "text/plain": [
       "bangalore    665\n",
       "-1           461\n",
       "noida        389\n",
       "hyderabad    368\n",
       "pune         327\n",
       "chennai      313\n",
       "gurgaon      217\n",
       "new delhi    204\n",
       "mumbai       119\n",
       "kolkata      119\n",
       "Name: jobcity, dtype: int64"
      ]
     },
     "execution_count": 44,
     "metadata": {},
     "output_type": "execute_result"
    }
   ],
   "source": [
    "# now lets find out the count distribution for various cities\n",
    "train.jobcity.value_counts()[:10]"
   ]
  },
  {
   "cell_type": "markdown",
   "metadata": {},
   "source": [
    "** As you can see Bangalore leads the way followed by Noida, Hyderabad and Pune, most people did not mention their city.**"
   ]
  },
  {
   "cell_type": "markdown",
   "metadata": {},
   "source": [
    "## Question: What are the mean salaries in various cities ?"
   ]
  },
  {
   "cell_type": "code",
   "execution_count": 48,
   "metadata": {
    "collapsed": false
   },
   "outputs": [
    {
     "data": {
      "text/plain": [
       "jobcity\n",
       "kalmar, sweden    2300000\n",
       "london            2000000\n",
       "johannesburg      1745000\n",
       "angul             1300000\n",
       "maharajganj       1200000\n",
       "dubai             1140000\n",
       "muzaffarpur       1000000\n",
       "durgapur           850000\n",
       "dammam             775000\n",
       "panchkula          733333\n",
       "Name: salary, dtype: int64"
      ]
     },
     "execution_count": 48,
     "metadata": {},
     "output_type": "execute_result"
    }
   ],
   "source": [
    "# group data by city\n",
    "group_by_city = train.groupby('jobcity')['salary']\n",
    "group_by_city.mean().order(ascending=False)[:10]"
   ]
  },
  {
   "cell_type": "markdown",
   "metadata": {},
   "source": [
    "** As you can see Indians working abroad earn much more **"
   ]
  },
  {
   "cell_type": "markdown",
   "metadata": {},
   "source": [
    "## Question: What are the median salaries in various cities ?"
   ]
  },
  {
   "cell_type": "code",
   "execution_count": 49,
   "metadata": {
    "collapsed": false
   },
   "outputs": [
    {
     "data": {
      "text/plain": [
       "jobcity\n",
       "kalmar, sweden    2300000\n",
       "london            2000000\n",
       "johannesburg      1745000\n",
       "dubai             1300000\n",
       "angul             1300000\n",
       "maharajganj       1200000\n",
       "muzaffarpur       1000000\n",
       "durgapur           850000\n",
       "dammam             775000\n",
       "rajpura            700000\n",
       "Name: salary, dtype: int64"
      ]
     },
     "execution_count": 49,
     "metadata": {},
     "output_type": "execute_result"
    }
   ],
   "source": [
    "# group data by city\n",
    "group_by_city = train.groupby('jobcity')['salary']\n",
    "group_by_city.median().order(ascending=False)[:10]"
   ]
  },
  {
   "cell_type": "code",
   "execution_count": null,
   "metadata": {
    "collapsed": true
   },
   "outputs": [],
   "source": []
  },
  {
   "cell_type": "code",
   "execution_count": null,
   "metadata": {
    "collapsed": true
   },
   "outputs": [],
   "source": []
  }
 ],
 "metadata": {
  "kernelspec": {
   "display_name": "Python 2",
   "language": "python",
   "name": "python2"
  },
  "language_info": {
   "codemirror_mode": {
    "name": "ipython",
    "version": 2
   },
   "file_extension": ".py",
   "mimetype": "text/x-python",
   "name": "python",
   "nbconvert_exporter": "python",
   "pygments_lexer": "ipython2",
   "version": "2.7.10"
  }
 },
 "nbformat": 4,
 "nbformat_minor": 0
}
